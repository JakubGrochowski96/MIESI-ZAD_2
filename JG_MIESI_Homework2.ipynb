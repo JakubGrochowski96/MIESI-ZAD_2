{
 "cells": [
  {
   "cell_type": "markdown",
   "metadata": {},
   "source": [
    "# Hacking Incident\n",
    "\n",
    "We're being hacked! We need your help to get a message to the main server.\n",
    "\n",
    "We need you to accomplish 3 tasks:\n",
    "\n",
    "1. Create a Caeser cipher encryption function.\n",
    "2. Create another function that decrypts a Caeser cipher message.\n",
    "\n",
    "We've set up a framework for you to follow here in this notebook. Feel free to use it, or create your own base functions."
   ]
  },
  {
   "cell_type": "markdown",
   "metadata": {},
   "source": [
    "## Encryption Function\n",
    "\n",
    "This function should take in two parameters, the plain text message and the shift number for the Caeser cipher.\n",
    "\n",
    "To create the cipher you will need to create a list of the alphabet. You can either write out the alphabet manually, or use the [string library](https://docs.python.org/3/library/string.html?highlight=string#module-string) to get all the lowercase alphabet. You will first need to run *import string* , and then call the attribute. For example:\n",
    "\n",
    "    import string\n",
    "    alphabet = string.ascii_lowercase\n",
    "    print(alphabet)\n",
    "    print(list(alphabet))\n",
    "    \n",
    "An empty function with some comments is here below for you to fill out:"
   ]
  },
  {
   "cell_type": "code",
   "execution_count": 40,
   "metadata": {
    "collapsed": true
   },
   "outputs": [],
   "source": [
    "import numpy as np\n",
    "import string\n",
    "\n",
    "def encrypt(text, shift):\n",
    "   \n",
    "    alphabet_list = string.ascii_lowercase\n",
    "    print(\"Alphabet string:\", alphabet_list)\n",
    "    print(\"Alphabet list:\", list(alphabet_list))\n",
    "\n",
    "    # Alfabet skonwertowany na NumPy array\n",
    "    alphabet = np.array(list(alphabet_list))\n",
    "\n",
    "    # Zaszyfrowany alfabet\n",
    "    shifted_alphabet = np.roll(alphabet, -shift)\n",
    "\n",
    "    # Szyfrowania pojedynczego znaku\n",
    "    def shift_char(char):\n",
    "        if char.isalpha():\n",
    "            is_upper = char.isupper()\n",
    "            char = char.lower()\n",
    "            \n",
    "            # Przesunięcie znaku\n",
    "            shifted_char = shifted_alphabet[np.where(alphabet == char)[0][0]]\n",
    "            return shifted_char.upper() if is_upper else shifted_char\n",
    "        else:\n",
    "            return char\n",
    "\n",
    "    # Szyfrowanie całego tekstu\n",
    "    encrypted_text = ''.join(shift_char(char) for char in text)\n",
    "\n",
    "    return encrypted_text\n"
   ]
  },
  {
   "cell_type": "markdown",
   "metadata": {},
   "source": [
    "** An example input and output: **"
   ]
  },
  {
   "cell_type": "code",
   "execution_count": 44,
   "metadata": {},
   "outputs": [
    {
     "name": "stdout",
     "output_type": "stream",
     "text": [
      "Alphabet string: abcdefghijklmnopqrstuvwxyz\n",
      "Alphabet list: ['a', 'b', 'c', 'd', 'e', 'f', 'g', 'h', 'i', 'j', 'k', 'l', 'm', 'n', 'o', 'p', 'q', 'r', 's', 't', 'u', 'v', 'w', 'x', 'y', 'z']\n"
     ]
    },
    {
     "data": {
      "text/plain": [
       "'Trg guvf zrffntr gb gur znva freire'"
      ]
     },
     "execution_count": 44,
     "metadata": {},
     "output_type": "execute_result"
    }
   ],
   "source": [
    "encrypt('Get this message to the main server',13)"
   ]
  },
  {
   "cell_type": "markdown",
   "metadata": {},
   "source": [
    "## Decryption\n",
    "\n",
    "Now create a new function that will \"decrypt\" a shifted message. It should basically do the reverse of the encryption function. The process will be very similar as your previous function, but the alphabets will be switched."
   ]
  },
  {
   "cell_type": "code",
   "execution_count": 46,
   "metadata": {
    "collapsed": true
   },
   "outputs": [],
   "source": [
    "import numpy as np\n",
    "import string\n",
    "\n",
    "def encrypt(text, shift):\n",
    "   \n",
    "    alphabet_list = string.ascii_lowercase\n",
    "    print(\"Alphabet string:\", alphabet_list)\n",
    "    print(\"Alphabet list:\", list(alphabet_list))\n",
    "\n",
    "    # Alfabet skonwertowany na NumPy array\n",
    "    alphabet = np.array(list(alphabet_list))\n",
    "    \n",
    "    # Zaszyfrowany alfabet\n",
    "    shifted_alphabet = np.roll(alphabet, shift)\n",
    "\n",
    "    # Deszyfrowanie pojedynczego znaku\n",
    "    def unshift_char(char):\n",
    "        if char.isalpha():\n",
    "            is_upper = char.isupper()\n",
    "            char = char.lower()\n",
    "            \n",
    "            # Przesunięcie znaku\n",
    "            original_char = alphabet[np.where(shifted_alphabet == char)[0][0]]\n",
    "            return original_char.upper() if is_upper else original_char\n",
    "        else:\n",
    "            return char\n",
    "\n",
    "    # Deszyfrowanie całego tekstu\n",
    "    decrypted_text = ''.join(unshift_char(char) for char in text)\n",
    "\n",
    "    return decrypted_text"
   ]
  },
  {
   "cell_type": "markdown",
   "metadata": {},
   "source": [
    "** Here is an example output: **"
   ]
  },
  {
   "cell_type": "code",
   "execution_count": 48,
   "metadata": {},
   "outputs": [
    {
     "name": "stdout",
     "output_type": "stream",
     "text": [
      "Alphabet string: abcdefghijklmnopqrstuvwxyz\n",
      "Alphabet list: ['a', 'b', 'c', 'd', 'e', 'f', 'g', 'h', 'i', 'j', 'k', 'l', 'm', 'n', 'o', 'p', 'q', 'r', 's', 't', 'u', 'v', 'w', 'x', 'y', 'z']\n"
     ]
    },
    {
     "data": {
      "text/plain": [
       "'get this message to the main server'"
      ]
     },
     "execution_count": 48,
     "metadata": {},
     "output_type": "execute_result"
    }
   ],
   "source": [
    "decrypt('trg guvf zrffntr gb gur znva freire',13)"
   ]
  }
 ],
 "metadata": {
  "kernelspec": {
   "display_name": "Python 3",
   "language": "python",
   "name": "python3"
  },
  "language_info": {
   "codemirror_mode": {
    "name": "ipython",
    "version": 3
   },
   "file_extension": ".py",
   "mimetype": "text/x-python",
   "name": "python",
   "nbconvert_exporter": "python",
   "pygments_lexer": "ipython3",
   "version": "3.8.8"
  }
 },
 "nbformat": 4,
 "nbformat_minor": 2
}
